{
 "cells": [
  {
   "cell_type": "code",
   "execution_count": 1,
   "metadata": {},
   "outputs": [],
   "source": [
    "#optiver volatility prediction\n",
    "import pandas as pd\n",
    "import numpy as np\n",
    "import matplotlib.pyplot as plt\n",
    "%matplotlib inline\n",
    "import glob\n",
    "import warnings\n",
    "import seaborn as sns\n",
    "warnings.filterwarnings('ignore')\n",
    "pd.set_option(\"display.max_columns\", 50)"
   ]
  },
  {
   "cell_type": "code",
   "execution_count": 2,
   "metadata": {},
   "outputs": [],
   "source": [
    "train = pd.read_csv('/Users/ericp/OneDrive/Documents/GitHub/Optiver/train.csv')\n",
    "test = pd.read_csv('/Users/ericp/OneDrive/Documents/GitHub/Optiver/test.csv')\n",
    "order_book = pd.read_parquet('/Users/ericp/OneDrive/Documents/GitHub/Optiver/book_train.parquet/stock_id=0')\n",
    "trade_book = pd.read_parquet('/Users/ericp/OneDrive/Documents/GitHub/Optiver/trade_train.parquet/stock_id=0')"
   ]
  },
  {
   "cell_type": "code",
   "execution_count": 3,
   "metadata": {},
   "outputs": [
    {
     "data": {
      "text/html": [
       "<div>\n",
       "<style scoped>\n",
       "    .dataframe tbody tr th:only-of-type {\n",
       "        vertical-align: middle;\n",
       "    }\n",
       "\n",
       "    .dataframe tbody tr th {\n",
       "        vertical-align: top;\n",
       "    }\n",
       "\n",
       "    .dataframe thead th {\n",
       "        text-align: right;\n",
       "    }\n",
       "</style>\n",
       "<table border=\"1\" class=\"dataframe\">\n",
       "  <thead>\n",
       "    <tr style=\"text-align: right;\">\n",
       "      <th></th>\n",
       "      <th>stock_id</th>\n",
       "      <th>time_id</th>\n",
       "      <th>target</th>\n",
       "    </tr>\n",
       "  </thead>\n",
       "  <tbody>\n",
       "    <tr>\n",
       "      <th>0</th>\n",
       "      <td>0</td>\n",
       "      <td>5</td>\n",
       "      <td>0.004136</td>\n",
       "    </tr>\n",
       "    <tr>\n",
       "      <th>1</th>\n",
       "      <td>0</td>\n",
       "      <td>11</td>\n",
       "      <td>0.001445</td>\n",
       "    </tr>\n",
       "    <tr>\n",
       "      <th>2</th>\n",
       "      <td>0</td>\n",
       "      <td>16</td>\n",
       "      <td>0.002168</td>\n",
       "    </tr>\n",
       "    <tr>\n",
       "      <th>3</th>\n",
       "      <td>0</td>\n",
       "      <td>31</td>\n",
       "      <td>0.002195</td>\n",
       "    </tr>\n",
       "    <tr>\n",
       "      <th>4</th>\n",
       "      <td>0</td>\n",
       "      <td>62</td>\n",
       "      <td>0.001747</td>\n",
       "    </tr>\n",
       "    <tr>\n",
       "      <th>5</th>\n",
       "      <td>0</td>\n",
       "      <td>72</td>\n",
       "      <td>0.004912</td>\n",
       "    </tr>\n",
       "    <tr>\n",
       "      <th>6</th>\n",
       "      <td>0</td>\n",
       "      <td>97</td>\n",
       "      <td>0.009388</td>\n",
       "    </tr>\n",
       "    <tr>\n",
       "      <th>7</th>\n",
       "      <td>0</td>\n",
       "      <td>103</td>\n",
       "      <td>0.004120</td>\n",
       "    </tr>\n",
       "    <tr>\n",
       "      <th>8</th>\n",
       "      <td>0</td>\n",
       "      <td>109</td>\n",
       "      <td>0.002182</td>\n",
       "    </tr>\n",
       "    <tr>\n",
       "      <th>9</th>\n",
       "      <td>0</td>\n",
       "      <td>123</td>\n",
       "      <td>0.002669</td>\n",
       "    </tr>\n",
       "  </tbody>\n",
       "</table>\n",
       "</div>"
      ],
      "text/plain": [
       "   stock_id  time_id    target\n",
       "0         0        5  0.004136\n",
       "1         0       11  0.001445\n",
       "2         0       16  0.002168\n",
       "3         0       31  0.002195\n",
       "4         0       62  0.001747\n",
       "5         0       72  0.004912\n",
       "6         0       97  0.009388\n",
       "7         0      103  0.004120\n",
       "8         0      109  0.002182\n",
       "9         0      123  0.002669"
      ]
     },
     "execution_count": 3,
     "metadata": {},
     "output_type": "execute_result"
    }
   ],
   "source": [
    "train.head(10)"
   ]
  },
  {
   "cell_type": "code",
   "execution_count": 4,
   "metadata": {},
   "outputs": [
    {
     "data": {
      "text/html": [
       "<div>\n",
       "<style scoped>\n",
       "    .dataframe tbody tr th:only-of-type {\n",
       "        vertical-align: middle;\n",
       "    }\n",
       "\n",
       "    .dataframe tbody tr th {\n",
       "        vertical-align: top;\n",
       "    }\n",
       "\n",
       "    .dataframe thead th {\n",
       "        text-align: right;\n",
       "    }\n",
       "</style>\n",
       "<table border=\"1\" class=\"dataframe\">\n",
       "  <thead>\n",
       "    <tr style=\"text-align: right;\">\n",
       "      <th></th>\n",
       "      <th>time_id</th>\n",
       "      <th>seconds_in_bucket</th>\n",
       "      <th>bid_price1</th>\n",
       "      <th>ask_price1</th>\n",
       "      <th>bid_price2</th>\n",
       "      <th>ask_price2</th>\n",
       "      <th>bid_size1</th>\n",
       "      <th>ask_size1</th>\n",
       "      <th>bid_size2</th>\n",
       "      <th>ask_size2</th>\n",
       "    </tr>\n",
       "  </thead>\n",
       "  <tbody>\n",
       "    <tr>\n",
       "      <th>0</th>\n",
       "      <td>5</td>\n",
       "      <td>0</td>\n",
       "      <td>1.001422</td>\n",
       "      <td>1.002301</td>\n",
       "      <td>1.00137</td>\n",
       "      <td>1.002353</td>\n",
       "      <td>3</td>\n",
       "      <td>226</td>\n",
       "      <td>2</td>\n",
       "      <td>100</td>\n",
       "    </tr>\n",
       "    <tr>\n",
       "      <th>1</th>\n",
       "      <td>5</td>\n",
       "      <td>1</td>\n",
       "      <td>1.001422</td>\n",
       "      <td>1.002301</td>\n",
       "      <td>1.00137</td>\n",
       "      <td>1.002353</td>\n",
       "      <td>3</td>\n",
       "      <td>100</td>\n",
       "      <td>2</td>\n",
       "      <td>100</td>\n",
       "    </tr>\n",
       "    <tr>\n",
       "      <th>2</th>\n",
       "      <td>5</td>\n",
       "      <td>5</td>\n",
       "      <td>1.001422</td>\n",
       "      <td>1.002301</td>\n",
       "      <td>1.00137</td>\n",
       "      <td>1.002405</td>\n",
       "      <td>3</td>\n",
       "      <td>100</td>\n",
       "      <td>2</td>\n",
       "      <td>100</td>\n",
       "    </tr>\n",
       "  </tbody>\n",
       "</table>\n",
       "</div>"
      ],
      "text/plain": [
       "   time_id  seconds_in_bucket  bid_price1  ask_price1  bid_price2  ask_price2  \\\n",
       "0        5                  0    1.001422    1.002301     1.00137    1.002353   \n",
       "1        5                  1    1.001422    1.002301     1.00137    1.002353   \n",
       "2        5                  5    1.001422    1.002301     1.00137    1.002405   \n",
       "\n",
       "   bid_size1  ask_size1  bid_size2  ask_size2  \n",
       "0          3        226          2        100  \n",
       "1          3        100          2        100  \n",
       "2          3        100          2        100  "
      ]
     },
     "execution_count": 4,
     "metadata": {},
     "output_type": "execute_result"
    }
   ],
   "source": [
    "order_book.head(3)"
   ]
  },
  {
   "cell_type": "code",
   "execution_count": 5,
   "metadata": {},
   "outputs": [
    {
     "data": {
      "text/html": [
       "<div>\n",
       "<style scoped>\n",
       "    .dataframe tbody tr th:only-of-type {\n",
       "        vertical-align: middle;\n",
       "    }\n",
       "\n",
       "    .dataframe tbody tr th {\n",
       "        vertical-align: top;\n",
       "    }\n",
       "\n",
       "    .dataframe thead th {\n",
       "        text-align: right;\n",
       "    }\n",
       "</style>\n",
       "<table border=\"1\" class=\"dataframe\">\n",
       "  <thead>\n",
       "    <tr style=\"text-align: right;\">\n",
       "      <th></th>\n",
       "      <th>time_id</th>\n",
       "      <th>seconds_in_bucket</th>\n",
       "      <th>price</th>\n",
       "      <th>size</th>\n",
       "      <th>order_count</th>\n",
       "    </tr>\n",
       "  </thead>\n",
       "  <tbody>\n",
       "    <tr>\n",
       "      <th>0</th>\n",
       "      <td>5</td>\n",
       "      <td>21</td>\n",
       "      <td>1.002301</td>\n",
       "      <td>326</td>\n",
       "      <td>12</td>\n",
       "    </tr>\n",
       "    <tr>\n",
       "      <th>1</th>\n",
       "      <td>5</td>\n",
       "      <td>46</td>\n",
       "      <td>1.002778</td>\n",
       "      <td>128</td>\n",
       "      <td>4</td>\n",
       "    </tr>\n",
       "    <tr>\n",
       "      <th>2</th>\n",
       "      <td>5</td>\n",
       "      <td>50</td>\n",
       "      <td>1.002818</td>\n",
       "      <td>55</td>\n",
       "      <td>1</td>\n",
       "    </tr>\n",
       "  </tbody>\n",
       "</table>\n",
       "</div>"
      ],
      "text/plain": [
       "   time_id  seconds_in_bucket     price  size  order_count\n",
       "0        5                 21  1.002301   326           12\n",
       "1        5                 46  1.002778   128            4\n",
       "2        5                 50  1.002818    55            1"
      ]
     },
     "execution_count": 5,
     "metadata": {},
     "output_type": "execute_result"
    }
   ],
   "source": [
    "trade_book.head(3)"
   ]
  },
  {
   "cell_type": "code",
   "execution_count": 6,
   "metadata": {},
   "outputs": [],
   "source": [
    "#create log diffs\n",
    "def logDiff(stock_prices):\n",
    "    return np.log(stock_prices).diff()"
   ]
  },
  {
   "cell_type": "code",
   "execution_count": 7,
   "metadata": {},
   "outputs": [],
   "source": [
    "#create realized vols for each time / stock price\n",
    "def realized_vol(log_diffs):\n",
    "    return np.sqrt(np.sum(log_diffs ** 2))"
   ]
  },
  {
   "cell_type": "code",
   "execution_count": 8,
   "metadata": {},
   "outputs": [],
   "source": [
    "#process the order book file\n",
    "def preprocess_order(orderPath):\n",
    "    stock = pd.read_parquet(orderPath)\n",
    "    stock_id = orderPath.split('=')[1]\n",
    "    stock['stock_id'] = stock_id\n",
    "    stock['wap'] = (stock['bid_price1'] * stock['ask_size1'] + stock['ask_price1'] * stock['bid_size1']) / (stock['bid_size1'] + stock['ask_size1'])\n",
    "    stock['wap2'] = (stock['bid_price2'] * stock['ask_size2'] + stock['ask_price2'] * stock['bid_size2']) / (stock['bid_size2'] + stock['ask_size2'])\n",
    "    stock['logDifferences'] = stock.groupby(['time_id'])['wap'].apply(logDiff)\n",
    "    stock['logDifferences2'] = stock.groupby(['time_id'])['wap2'].apply(logDiff)    \n",
    "    stock['volume_imbalance1'] = stock['bid_size1'] / stock['ask_size1']\n",
    "    stock['volume_imbalance2'] = stock['bid_size2'] / stock['ask_size2']\n",
    "    stock['spread'] = stock['ask_price1'] - stock['bid_price1']\n",
    "    stock['bid_spread'] = stock['bid_price1'] - stock['bid_price2']\n",
    "    stock['ask_spread'] = stock['ask_price2'] - stock['ask_price1']\n",
    "    \n",
    "    \n",
    "    return stock\n",
    "    "
   ]
  },
  {
   "cell_type": "code",
   "execution_count": 9,
   "metadata": {},
   "outputs": [],
   "source": [
    "#glob glob the two file paths with all the trade and order files\n",
    "orderPath = glob.glob('/users/ericp/OneDrive/Documents/GitHub/Optiver/book_train.parquet/*')\n",
    "tradePath = glob.glob('/users/ericp/OneDrive/Documents/GitHub/Optiver/trade_train.parquet/*')"
   ]
  },
  {
   "cell_type": "code",
   "execution_count": 10,
   "metadata": {},
   "outputs": [],
   "source": [
    "stock = preprocess_order(orderPath[0])"
   ]
  },
  {
   "cell_type": "code",
   "execution_count": 11,
   "metadata": {},
   "outputs": [
    {
     "data": {
      "text/html": [
       "<div>\n",
       "<style scoped>\n",
       "    .dataframe tbody tr th:only-of-type {\n",
       "        vertical-align: middle;\n",
       "    }\n",
       "\n",
       "    .dataframe tbody tr th {\n",
       "        vertical-align: top;\n",
       "    }\n",
       "\n",
       "    .dataframe thead th {\n",
       "        text-align: right;\n",
       "    }\n",
       "</style>\n",
       "<table border=\"1\" class=\"dataframe\">\n",
       "  <thead>\n",
       "    <tr style=\"text-align: right;\">\n",
       "      <th></th>\n",
       "      <th>time_id</th>\n",
       "      <th>seconds_in_bucket</th>\n",
       "      <th>bid_price1</th>\n",
       "      <th>ask_price1</th>\n",
       "      <th>bid_price2</th>\n",
       "      <th>ask_price2</th>\n",
       "      <th>bid_size1</th>\n",
       "      <th>ask_size1</th>\n",
       "      <th>bid_size2</th>\n",
       "      <th>ask_size2</th>\n",
       "      <th>stock_id</th>\n",
       "      <th>wap</th>\n",
       "      <th>wap2</th>\n",
       "      <th>logDifferences</th>\n",
       "      <th>logDifferences2</th>\n",
       "      <th>volume_imbalance1</th>\n",
       "      <th>volume_imbalance2</th>\n",
       "      <th>spread</th>\n",
       "      <th>bid_spread</th>\n",
       "      <th>ask_spread</th>\n",
       "    </tr>\n",
       "  </thead>\n",
       "  <tbody>\n",
       "    <tr>\n",
       "      <th>0</th>\n",
       "      <td>5</td>\n",
       "      <td>0</td>\n",
       "      <td>1.001422</td>\n",
       "      <td>1.002301</td>\n",
       "      <td>1.00137</td>\n",
       "      <td>1.002353</td>\n",
       "      <td>3</td>\n",
       "      <td>226</td>\n",
       "      <td>2</td>\n",
       "      <td>100</td>\n",
       "      <td>0</td>\n",
       "      <td>1.001434</td>\n",
       "      <td>1.001390</td>\n",
       "      <td>NaN</td>\n",
       "      <td>NaN</td>\n",
       "      <td>0.013274</td>\n",
       "      <td>0.02</td>\n",
       "      <td>0.000879</td>\n",
       "      <td>0.000052</td>\n",
       "      <td>0.000052</td>\n",
       "    </tr>\n",
       "    <tr>\n",
       "      <th>1</th>\n",
       "      <td>5</td>\n",
       "      <td>1</td>\n",
       "      <td>1.001422</td>\n",
       "      <td>1.002301</td>\n",
       "      <td>1.00137</td>\n",
       "      <td>1.002353</td>\n",
       "      <td>3</td>\n",
       "      <td>100</td>\n",
       "      <td>2</td>\n",
       "      <td>100</td>\n",
       "      <td>0</td>\n",
       "      <td>1.001448</td>\n",
       "      <td>1.001390</td>\n",
       "      <td>0.000014</td>\n",
       "      <td>0.000000</td>\n",
       "      <td>0.030000</td>\n",
       "      <td>0.02</td>\n",
       "      <td>0.000879</td>\n",
       "      <td>0.000052</td>\n",
       "      <td>0.000052</td>\n",
       "    </tr>\n",
       "    <tr>\n",
       "      <th>2</th>\n",
       "      <td>5</td>\n",
       "      <td>5</td>\n",
       "      <td>1.001422</td>\n",
       "      <td>1.002301</td>\n",
       "      <td>1.00137</td>\n",
       "      <td>1.002405</td>\n",
       "      <td>3</td>\n",
       "      <td>100</td>\n",
       "      <td>2</td>\n",
       "      <td>100</td>\n",
       "      <td>0</td>\n",
       "      <td>1.001448</td>\n",
       "      <td>1.001391</td>\n",
       "      <td>0.000000</td>\n",
       "      <td>0.000001</td>\n",
       "      <td>0.030000</td>\n",
       "      <td>0.02</td>\n",
       "      <td>0.000879</td>\n",
       "      <td>0.000052</td>\n",
       "      <td>0.000103</td>\n",
       "    </tr>\n",
       "    <tr>\n",
       "      <th>3</th>\n",
       "      <td>5</td>\n",
       "      <td>6</td>\n",
       "      <td>1.001422</td>\n",
       "      <td>1.002301</td>\n",
       "      <td>1.00137</td>\n",
       "      <td>1.002405</td>\n",
       "      <td>3</td>\n",
       "      <td>126</td>\n",
       "      <td>2</td>\n",
       "      <td>100</td>\n",
       "      <td>0</td>\n",
       "      <td>1.001443</td>\n",
       "      <td>1.001391</td>\n",
       "      <td>-0.000005</td>\n",
       "      <td>0.000000</td>\n",
       "      <td>0.023810</td>\n",
       "      <td>0.02</td>\n",
       "      <td>0.000879</td>\n",
       "      <td>0.000052</td>\n",
       "      <td>0.000103</td>\n",
       "    </tr>\n",
       "    <tr>\n",
       "      <th>4</th>\n",
       "      <td>5</td>\n",
       "      <td>7</td>\n",
       "      <td>1.001422</td>\n",
       "      <td>1.002301</td>\n",
       "      <td>1.00137</td>\n",
       "      <td>1.002405</td>\n",
       "      <td>3</td>\n",
       "      <td>126</td>\n",
       "      <td>2</td>\n",
       "      <td>100</td>\n",
       "      <td>0</td>\n",
       "      <td>1.001443</td>\n",
       "      <td>1.001391</td>\n",
       "      <td>0.000000</td>\n",
       "      <td>0.000000</td>\n",
       "      <td>0.023810</td>\n",
       "      <td>0.02</td>\n",
       "      <td>0.000879</td>\n",
       "      <td>0.000052</td>\n",
       "      <td>0.000103</td>\n",
       "    </tr>\n",
       "  </tbody>\n",
       "</table>\n",
       "</div>"
      ],
      "text/plain": [
       "   time_id  seconds_in_bucket  bid_price1  ask_price1  bid_price2  ask_price2  \\\n",
       "0        5                  0    1.001422    1.002301     1.00137    1.002353   \n",
       "1        5                  1    1.001422    1.002301     1.00137    1.002353   \n",
       "2        5                  5    1.001422    1.002301     1.00137    1.002405   \n",
       "3        5                  6    1.001422    1.002301     1.00137    1.002405   \n",
       "4        5                  7    1.001422    1.002301     1.00137    1.002405   \n",
       "\n",
       "   bid_size1  ask_size1  bid_size2  ask_size2 stock_id       wap      wap2  \\\n",
       "0          3        226          2        100        0  1.001434  1.001390   \n",
       "1          3        100          2        100        0  1.001448  1.001390   \n",
       "2          3        100          2        100        0  1.001448  1.001391   \n",
       "3          3        126          2        100        0  1.001443  1.001391   \n",
       "4          3        126          2        100        0  1.001443  1.001391   \n",
       "\n",
       "   logDifferences  logDifferences2  volume_imbalance1  volume_imbalance2  \\\n",
       "0             NaN              NaN           0.013274               0.02   \n",
       "1        0.000014         0.000000           0.030000               0.02   \n",
       "2        0.000000         0.000001           0.030000               0.02   \n",
       "3       -0.000005         0.000000           0.023810               0.02   \n",
       "4        0.000000         0.000000           0.023810               0.02   \n",
       "\n",
       "     spread  bid_spread  ask_spread  \n",
       "0  0.000879    0.000052    0.000052  \n",
       "1  0.000879    0.000052    0.000052  \n",
       "2  0.000879    0.000052    0.000103  \n",
       "3  0.000879    0.000052    0.000103  \n",
       "4  0.000879    0.000052    0.000103  "
      ]
     },
     "execution_count": 11,
     "metadata": {},
     "output_type": "execute_result"
    }
   ],
   "source": [
    "stock.head()"
   ]
  },
  {
   "cell_type": "code",
   "execution_count": null,
   "metadata": {},
   "outputs": [],
   "source": [
    "trade_book.head(3)"
   ]
  },
  {
   "cell_type": "code",
   "execution_count": null,
   "metadata": {},
   "outputs": [],
   "source": [
    "#preprocess the orderbook with aggregate stats\n",
    "def preprocess_order_agg(stk):\n",
    "    \n",
    "    agg_stats = {\n",
    "        'logDifferences':[realized_vol],\n",
    "        'logDifferences2':[realized_vol],\n",
    "        'wap': [np.mean, np.std],\n",
    "        'wap2':[np.mean, np.std],\n",
    "        'volume_imbalance1':[np.mean, np.std],\n",
    "        'spread':[np.mean, np.std, np.min, np.max],\n",
    "        'bid_spread':[np.mean, np.std],\n",
    "        'ask_spread':[np.mean, np.std]\n",
    "    }\n",
    "    \n",
    "    df_agg = pd.DataFrame(stk.groupby(['time_id']).agg(agg_stats)).reset_index()\n",
    "    df_agg.columns = ['_'.join(col) for col in df_agg.columns]\n",
    "    df_agg['row_id'] = stk.stock_id.apply(str) + '-' + df_agg['time_id_'].apply(str)\n",
    "    #df_agg = df_agg.drop(['time_id_'], axis = 1)\n",
    "    \n",
    "    return df_agg"
   ]
  },
  {
   "cell_type": "code",
   "execution_count": null,
   "metadata": {},
   "outputs": [],
   "source": [
    "agg_stats = preprocess_order_agg(stock)"
   ]
  },
  {
   "cell_type": "code",
   "execution_count": null,
   "metadata": {},
   "outputs": [],
   "source": [
    "def preprocess_trade(tradePath):\n",
    "    stk = pd.read_parquet(tradePath)\n",
    "    stock_id = tradePath.split('=')[1]\n",
    "    stk['stock_id'] = stock_id\n",
    "    \n",
    "    agg_stats = {\n",
    "        'price': [np.mean, np.std, np.min, np.max],\n",
    "        'size':[np.sum],\n",
    "        'order_count':[np.sum]\n",
    "    }\n",
    "    \n",
    "    df_agg = pd.DataFrame(stk.groupby(['time_id']).agg(agg_stats)).reset_index()\n",
    "    df_agg.columns = ['_'.join(col) for col in df_agg.columns]\n",
    "    df_agg['row_id'] = stk.stock_id.apply(str) + '-' + stk['time_id'].apply(str)\n",
    "    #df_agg = df_agg.drop(['time_id_'], axis = 1)\n",
    "    \n",
    "    return df_agg"
   ]
  },
  {
   "cell_type": "code",
   "execution_count": null,
   "metadata": {},
   "outputs": [],
   "source": [
    "agg_stats2 = preprocess_trade(tradePath[0])"
   ]
  },
  {
   "cell_type": "code",
   "execution_count": null,
   "metadata": {},
   "outputs": [],
   "source": [
    "#time stats\n",
    "\n",
    "def time_stats(stk, time_in_seconds):\n",
    "    df = pd.DataFrame()\n",
    "    \n",
    "    agg_stats = {\n",
    "        'logDifferences':[realized_vol],\n",
    "        'logDifferences2':[realized_vol],\n",
    "        'wap': [np.mean, np.std],\n",
    "        'wap2':[np.mean, np.std],\n",
    "        'volume_imbalance1':[np.mean, np.std],\n",
    "        'spread':[np.mean, np.std, np.min, np.max],\n",
    "        'bid_spread':[np.mean, np.std],\n",
    "        'ask_spread':[np.mean, np.std]\n",
    "    }\n",
    "    \n",
    "    time_df = pd.DataFrame(stk.query(f'seconds_in_bucket > {time_in_seconds}').groupby(['time_id']).agg(agg_stats)).reset_index()\n",
    "    time_df.columns = ['_'.join(col) for col in time_df.columns]\n",
    "    time_df = time_df.add_suffix('_' + str(time_in_seconds))\n",
    "    #time_df = time_df.drop([f'time_id__{time_in_seconds}'], axis = 1)\n",
    "    time_df['row_id'] = stk.stock_id.apply(str) + '-' + stk['time_id'].apply(str)\n",
    "            \n",
    "    return time_df"
   ]
  },
  {
   "cell_type": "code",
   "execution_count": null,
   "metadata": {},
   "outputs": [],
   "source": [
    "time_stats_0 = time_stats(stock, time_in_seconds = 0)\n",
    "time_stats_150 = time_stats(stock, time_in_seconds = 150)\n",
    "time_stats_300 = time_stats(stock, time_in_seconds = 300)\n",
    "time_stats_450 = time_stats(stock, time_in_seconds = 450)"
   ]
  },
  {
   "cell_type": "code",
   "execution_count": null,
   "metadata": {},
   "outputs": [],
   "source": [
    "#merge all dfs\n",
    "time_stats_0 = time_stats_0.merge(time_stats_150, how = 'left', left_on = 'time_id__0', right_on = 'time_id__150')\n",
    "time_stats_0 = time_stats_0.merge(time_stats_300, how = 'left', left_on = 'time_id__0', right_on = 'time_id__300')\n",
    "time_stats_0 = time_stats_0.merge(time_stats_450, how = 'left', left_on = 'time_id__0', right_on = 'time_id__450')"
   ]
  },
  {
   "cell_type": "code",
   "execution_count": null,
   "metadata": {},
   "outputs": [],
   "source": [
    "time_stats_0.columns"
   ]
  },
  {
   "cell_type": "code",
   "execution_count": null,
   "metadata": {},
   "outputs": [],
   "source": [
    "time_stats_0.drop(['time_id__0','time_id__150', 'time_id__300', 'time_id__450', 'row_id_x', 'row_id_y', 'row_id_y'], axis = 1, inplace = True)"
   ]
  },
  {
   "cell_type": "code",
   "execution_count": null,
   "metadata": {},
   "outputs": [],
   "source": [
    "time_stats_0.columns"
   ]
  },
  {
   "cell_type": "code",
   "execution_count": null,
   "metadata": {},
   "outputs": [],
   "source": [
    "time_stats_0.shape"
   ]
  },
  {
   "cell_type": "code",
   "execution_count": null,
   "metadata": {},
   "outputs": [],
   "source": [
    "#loop through all stocks\n",
    "#glob glob the two file paths with all the trade and order files\n",
    "orderPath = glob.glob('/users/ericp/OneDrive/Documents/GitHub/Optiver/book_train.parquet/*')\n",
    "tradePath = glob.glob('/users/ericp/OneDrive/Documents/GitHub/Optiver/trade_train.parquet/*')\n",
    "\n",
    "i = 1\n",
    "df_final = pd.DataFrame()\n",
    "\n",
    "for (order, trade) in zip(orderPath, tradePath):\n",
    "    stock = preprocess_order(order)\n",
    "    trade_agg = preprocess_trade(trade)\n",
    "    time_stats_0 = time_stats(stock, time_in_seconds = 0)\n",
    "    time_stats_150 = time_stats(stock, time_in_seconds = 150)\n",
    "    time_stats_300 = time_stats(stock, time_in_seconds = 300)\n",
    "    time_stats_450 = time_stats(stock, time_in_seconds = 450)\n",
    "    \n",
    "    #merge all dfs\n",
    "    time_stats_0 = time_stats_0.merge(time_stats_150, how = 'left', left_on = 'time_id__0', right_on = 'time_id__150')\n",
    "    time_stats_0 = time_stats_0.merge(time_stats_300, how = 'left', left_on = 'time_id__0', right_on = 'time_id__300')\n",
    "    time_stats_0 = time_stats_0.merge(time_stats_450, how = 'left', left_on = 'time_id__0', right_on = 'time_id__450')\n",
    "    \n",
    "    df = time_stats_0.merge(trade_agg, how = 'left', left_on = 'time_id__0', right_on = 'time_id_')\n",
    "    \n",
    "    \n",
    "    df.drop(['time_id__0','time_id__150', 'time_id__300', 'time_id__450', 'time_id_','row_id_x', 'row_id_y', 'row_id_y'], axis = 1, inplace = True)\n",
    "    \n",
    "    df_final = pd.concat([df, df_final], axis = 0)\n",
    "    \n",
    "    print (i)\n",
    "    i += 1"
   ]
  },
  {
   "cell_type": "code",
   "execution_count": null,
   "metadata": {},
   "outputs": [],
   "source": [
    "df_final.shape"
   ]
  },
  {
   "cell_type": "code",
   "execution_count": null,
   "metadata": {},
   "outputs": [],
   "source": [
    "df_final.head()"
   ]
  },
  {
   "cell_type": "code",
   "execution_count": null,
   "metadata": {},
   "outputs": [],
   "source": [
    "#lgb model\n",
    "import lightgbm as lgb\n",
    "from sklearn.model_selection import cross_val_score\n",
    "from sklearn.model_selection import RepeatedKFold\n",
    "from sklearn.model_selection import train_test_split\n",
    "\n",
    "X = df_final.drop(['logDifferences_realized_vol_0', 'row_id'], axis = 1)\n",
    "y = df_final['logDifferences_realized_vol_0']\n",
    "\n",
    "X_train, X_test, y_train, y_test = train_test_split(X,y)\n",
    "print('Shape of X_test is {}'.format(X_train.shape))\n",
    "print('Shape of X_train is {}'.format(X_test.shape))\n",
    "print('Shape of y_test is {}'.format(y_test.shape))\n",
    "print('Shape of y_train is {}'.format(y_train.shape))"
   ]
  },
  {
   "cell_type": "code",
   "execution_count": null,
   "metadata": {},
   "outputs": [],
   "source": [
    "model_lgb = lgb.LGBMRegressor()\n",
    "model_lgb.fit(X_train, y_train)"
   ]
  },
  {
   "cell_type": "code",
   "execution_count": null,
   "metadata": {},
   "outputs": [],
   "source": [
    "ypreds = model_lgb.predict(X_test)"
   ]
  },
  {
   "cell_type": "code",
   "execution_count": null,
   "metadata": {},
   "outputs": [],
   "source": [
    "#create RMSPE metric\n",
    "def RMSPE(vols, truth):         \n",
    "    return np.sqrt(np.sum(np.mean(np.square((vols - truth)/truth))))"
   ]
  },
  {
   "cell_type": "code",
   "execution_count": null,
   "metadata": {},
   "outputs": [],
   "source": [
    "RMSPE(ypreds, y_test)"
   ]
  },
  {
   "cell_type": "markdown",
   "metadata": {},
   "source": [
    "from sklearn.model_selection import GridSearchCV\n",
    "params = {\n",
    "    'num_leaves': [7, 14, 21, 28, 31, 50],\n",
    "    'learning_rate': [0.1, 0.03, 0.003],\n",
    "    'max_depth': [-1, 3, 5],\n",
    "    'n_estimators': [50, 100, 200, 500],\n",
    "}\n",
    "\n",
    "grid = GridSearchCV(model_lgb, params, scoring='r2', cv = 5)\n",
    "grid.fit(X_train, y_train)\n",
    "\n"
   ]
  },
  {
   "cell_type": "code",
   "execution_count": null,
   "metadata": {},
   "outputs": [],
   "source": [
    "params = grid.best_params_"
   ]
  },
  {
   "cell_type": "code",
   "execution_count": null,
   "metadata": {},
   "outputs": [],
   "source": [
    "params"
   ]
  },
  {
   "cell_type": "code",
   "execution_count": null,
   "metadata": {},
   "outputs": [],
   "source": [
    "model_lgb = lgb.LGBMRegressor(**params)\n",
    "model_lgb.fit(X_train, y_train)"
   ]
  },
  {
   "cell_type": "code",
   "execution_count": null,
   "metadata": {},
   "outputs": [],
   "source": [
    "ypreds = model_lgb.predict(X_test)"
   ]
  },
  {
   "cell_type": "code",
   "execution_count": null,
   "metadata": {},
   "outputs": [],
   "source": [
    "RMSPE(ypreds, y_test)"
   ]
  },
  {
   "cell_type": "code",
   "execution_count": null,
   "metadata": {},
   "outputs": [],
   "source": [
    "#create preds for test set\n",
    "#loop through all stocks\n",
    "#glob glob the two file paths with all the trade and order files\n",
    "orderTest = glob.glob('/users/ericp/OneDrive/Documents/GitHub/Optiver/book_test.parquet/*')\n",
    "tradeTest = glob.glob('/users/ericp/OneDrive/Documents/GitHub/Optiver/trade_test.parquet/*')\n",
    "\n",
    "f_final = pd.DataFrame()\n",
    "\n",
    "for (order, trade) in zip(orderPath, tradePath):\n",
    "    stock = preprocess_order(order)\n",
    "    trade_agg = preprocess_trade(trade)\n",
    "    time_stats_0 = time_stats(stock, time_in_seconds = 0)\n",
    "    time_stats_150 = time_stats(stock, time_in_seconds = 150)\n",
    "    time_stats_300 = time_stats(stock, time_in_seconds = 300)\n",
    "    time_stats_450 = time_stats(stock, time_in_seconds = 450)\n",
    "    \n",
    "    #merge all dfs\n",
    "    time_stats_0 = time_stats_0.merge(time_stats_150, how = 'left', left_on = 'time_id__0', right_on = 'time_id__150')\n",
    "    time_stats_0 = time_stats_0.merge(time_stats_300, how = 'left', left_on = 'time_id__0', right_on = 'time_id__300')\n",
    "    time_stats_0 = time_stats_0.merge(time_stats_450, how = 'left', left_on = 'time_id__0', right_on = 'time_id__450')\n",
    "    \n",
    "    df = time_stats_0.merge(trade_agg, how = 'left', left_on = 'time_id__0', right_on = 'time_id_')\n",
    "    \n",
    "    \n",
    "    df.drop(['time_id__0','time_id__150', 'time_id__300', 'time_id__450', 'time_id_','row_id_x', 'row_id_y', 'row_id_y'], axis = 1, inplace = True)\n",
    "    \n",
    "    df_final = pd.concat([df, df_final], axis = 0)\n"
   ]
  },
  {
   "cell_type": "code",
   "execution_count": null,
   "metadata": {},
   "outputs": [],
   "source": [
    "X = df_final.drop(['logDifferences_realized_vol_0', 'row_id'], axis = 1)\n",
    "y = df_final['logDifferences_realized_vol_0']"
   ]
  },
  {
   "cell_type": "code",
   "execution_count": null,
   "metadata": {},
   "outputs": [],
   "source": [
    "model_lgb = lgb.LGBMRegressor(**params)\n",
    "model_lgb.fit(X, y)\n",
    "ypreds = pd.Series(model_lgb.predict(X_test), names = 'target')"
   ]
  },
  {
   "cell_type": "code",
   "execution_count": null,
   "metadata": {},
   "outputs": [],
   "source": [
    "submission = [df_final['row_id'], preds]"
   ]
  }
 ],
 "metadata": {
  "kernelspec": {
   "display_name": "Python 3",
   "language": "python",
   "name": "python3"
  },
  "language_info": {
   "codemirror_mode": {
    "name": "ipython",
    "version": 3
   },
   "file_extension": ".py",
   "mimetype": "text/x-python",
   "name": "python",
   "nbconvert_exporter": "python",
   "pygments_lexer": "ipython3",
   "version": "3.7.6"
  }
 },
 "nbformat": 4,
 "nbformat_minor": 4
}
