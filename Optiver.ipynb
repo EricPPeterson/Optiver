{
 "cells": [
  {
   "cell_type": "code",
   "execution_count": 1,
   "metadata": {},
   "outputs": [],
   "source": [
    "import pandas as pd\n",
    "import numpy as np\n",
    "import matplotlib.pyplot as plt\n",
    "%matplotlib inline\n",
    "import pyarrow as pa\n",
    "import pyarrow.parquet as pq\n",
    "import glob\n",
    "import warnings\n",
    "warnings.filterwarnings('ignore')"
   ]
  },
  {
   "cell_type": "code",
   "execution_count": 2,
   "metadata": {},
   "outputs": [],
   "source": [
    "train = pd.read_csv('/Users/ericp/OneDrive/Documents/GitHub/Optiver/train.csv')\n",
    "test = pd.read_csv('/Users/ericp/OneDrive/Documents/GitHub/Optiver/test.csv')\n",
    "book_test = pq.read_table('/Users/ericp/OneDrive/Documents/GitHub/Optiver/book_test.parquet/stock_id=0/stock_zero.parquet').to_pandas()\n",
    "trade_test = pq.read_table('/Users/ericp/OneDrive/Documents/GitHub/Optiver/trade_test.parquet/stock_id=0/stock_zero.parquet').to_pandas()"
   ]
  },
  {
   "cell_type": "code",
   "execution_count": 3,
   "metadata": {},
   "outputs": [],
   "source": [
    "order_book_train = glob.glob('/Users/ericp/OneDrive/Documents/GitHub/Optiver/book_train.parquet/*')\n",
    "trade_book_train = glob.glob('/Users/ericp/OneDrive/Documents/GitHub/Optiver/trade_train.parquet/*')"
   ]
  },
  {
   "cell_type": "code",
   "execution_count": null,
   "metadata": {},
   "outputs": [],
   "source": [
    "order_book = []\n",
    "for book in order_book_train:\n",
    "    lst = pq.read_table(book).to_pandas()\n",
    "    x = book.split('=')[1]\n",
    "    lst['stock_id'] = x\n",
    "    order_book.append(lst)\n",
    "order_book = pd.concat(order_book, ignore_index = False)\n",
    "order_book['stock_id'] = pd.to_numeric(order_book['stock_id'])"
   ]
  },
  {
   "cell_type": "code",
   "execution_count": null,
   "metadata": {},
   "outputs": [],
   "source": [
    "trade_book = []\n",
    "for book in trade_book_train:\n",
    "    lst = pq.read_table(book).to_pandas()\n",
    "    x = book.split('=')[1]\n",
    "    lst['stock_id'] = x\n",
    "    trade_book.append(lst)\n",
    "trade_book = pd.concat(trade_book, ignore_index = False)\n",
    "trade_book['stock_id'] = pd.to_numeric(trade_book['stock_id'])"
   ]
  },
  {
   "cell_type": "code",
   "execution_count": null,
   "metadata": {},
   "outputs": [],
   "source": [
    "print('train has {} rows and {} columns'.format(train.shape[0],train.shape[1]))\n",
    "print('test has {} rows and {} columns'.format(test.shape[0], test.shape[1]))\n",
    "print('order_book has {} rows and {} columns'.format(order_book.shape[0], order_book.shape[1]))\n",
    "print('trade_book has {} rows and {} columns'.format(trade_book.shape[0], order_book.shape[1]))\n",
    "print('book_test has {} rows and {} columns'.format(book_test.shape[0], book_test.shape[1]))\n",
    "print('trade_test has {} rows and {} columns'.format(trade_test.shape[0], trade_test.shape[1]))"
   ]
  },
  {
   "cell_type": "code",
   "execution_count": null,
   "metadata": {},
   "outputs": [],
   "source": [
    "train.head()"
   ]
  },
  {
   "cell_type": "code",
   "execution_count": null,
   "metadata": {},
   "outputs": [],
   "source": [
    "order_book['wt_avg'] = (order_book['bid_price1'] * order_book['ask_size1'] + order_book['ask_price1'] * \n",
    "                        order_book['bid_size1']) / (order_book['bid_size1'] + order_book['ask_size1'])"
   ]
  },
  {
   "cell_type": "code",
   "execution_count": null,
   "metadata": {},
   "outputs": [],
   "source": [
    "mean_price = pd.DataFrame(order_book.groupby(['time_id', 'stock_id'])['wt_avg'].mean())"
   ]
  },
  {
   "cell_type": "code",
   "execution_count": null,
   "metadata": {},
   "outputs": [],
   "source": [
    "mean_price.head()"
   ]
  },
  {
   "cell_type": "code",
   "execution_count": null,
   "metadata": {},
   "outputs": [],
   "source": [
    "trade_book.head()"
   ]
  },
  {
   "cell_type": "code",
   "execution_count": null,
   "metadata": {},
   "outputs": [],
   "source": [
    "mean_ex = pd.DataFrame(trade_book.groupby(['time_id', 'stock_id'])['price'].mean())"
   ]
  },
  {
   "cell_type": "code",
   "execution_count": null,
   "metadata": {},
   "outputs": [],
   "source": [
    "test.head()"
   ]
  },
  {
   "cell_type": "code",
   "execution_count": null,
   "metadata": {},
   "outputs": [],
   "source": [
    "order_book.head()"
   ]
  },
  {
   "cell_type": "code",
   "execution_count": null,
   "metadata": {},
   "outputs": [],
   "source": [
    "train_df = order_book[order_book['time_id'] == 5]\n",
    "train_df = train_df[train_df['stock_id'] == 0]\n",
    "train_exe_df = trade_book[trade_book['time_id'] == 5]\n",
    "train_exe_df = train_exe_df[train_exe_df['time_id'] == 5]"
   ]
  },
  {
   "cell_type": "code",
   "execution_count": null,
   "metadata": {},
   "outputs": [],
   "source": [
    "fig,axs = plt.subplots(1)\n",
    "fig.suptitle('Stock = 0, Time_ID = 5, Volatility')\n",
    "axs.plot(train_df['wt_avg'])"
   ]
  },
  {
   "cell_type": "code",
   "execution_count": null,
   "metadata": {},
   "outputs": [],
   "source": [
    "fig,axs = plt.subplots(1)\n",
    "fig.suptitle('Stock = 0, Time_ID = 5, Volatility')\n",
    "axs.plot(train_exe_df['price'])"
   ]
  },
  {
   "cell_type": "code",
   "execution_count": null,
   "metadata": {},
   "outputs": [],
   "source": [
    "train_df.head()"
   ]
  },
  {
   "cell_type": "code",
   "execution_count": null,
   "metadata": {},
   "outputs": [],
   "source": [
    "def vol_calc_order(stock_prices):\n",
    "    return np.log(stock_prices).diff()"
   ]
  },
  {
   "cell_type": "code",
   "execution_count": null,
   "metadata": {},
   "outputs": [],
   "source": [
    "train_df['log_diff'] = vol_calc_order(train_df['wt_avg'])\n",
    "train_df = train_df[train_df['log_diff'].notnull()]\n",
    "train_exe_df['log_diff'] = vol_calc_order(train_exe_df['price'])\n",
    "train_exe_df = train_exe_df[train_exe_df['log_diff'].notnull()]"
   ]
  },
  {
   "cell_type": "code",
   "execution_count": null,
   "metadata": {},
   "outputs": [],
   "source": [
    "fig, axs = plt.subplots(1)\n",
    "fig.suptitle('Log Differences')\n",
    "axs.plot(train_df['log_diff'])"
   ]
  },
  {
   "cell_type": "code",
   "execution_count": null,
   "metadata": {},
   "outputs": [],
   "source": [
    "fig, axs = plt.subplots(1)\n",
    "fig.suptitle('Log Differences')\n",
    "axs.plot(train_exe_df['log_diff'])"
   ]
  },
  {
   "cell_type": "code",
   "execution_count": null,
   "metadata": {},
   "outputs": [],
   "source": [
    "def realized_vol(log_diffs):\n",
    "    return np.sqrt(np.sum(log_diffs ** 2))"
   ]
  },
  {
   "cell_type": "code",
   "execution_count": null,
   "metadata": {},
   "outputs": [],
   "source": [
    "print('Realized vol for Stock 0 over Time Period 5 is: {}'.format(realized_vol(train_df['log_diff'])))\n",
    "print('Realized vol for Stock 0 over Time Period 5 exe is: {}0'.format(realized_vol(train_exe_df['log_diff'])))"
   ]
  },
  {
   "cell_type": "code",
   "execution_count": null,
   "metadata": {},
   "outputs": [],
   "source": [
    "def RMSPE(vols):\n",
    "    return np.sqrt((np.sum((vols.iloc[:,0] - vols.iloc[:,1])**2))/len(vols))"
   ]
  },
  {
   "cell_type": "code",
   "execution_count": null,
   "metadata": {},
   "outputs": [],
   "source": []
  },
  {
   "cell_type": "code",
   "execution_count": null,
   "metadata": {},
   "outputs": [],
   "source": []
  }
 ],
 "metadata": {
  "kernelspec": {
   "display_name": "Python 3",
   "language": "python",
   "name": "python3"
  },
  "language_info": {
   "codemirror_mode": {
    "name": "ipython",
    "version": 3
   },
   "file_extension": ".py",
   "mimetype": "text/x-python",
   "name": "python",
   "nbconvert_exporter": "python",
   "pygments_lexer": "ipython3",
   "version": "3.7.6"
  }
 },
 "nbformat": 4,
 "nbformat_minor": 4
}
