{
 "cells": [
  {
   "cell_type": "code",
   "execution_count": null,
   "metadata": {},
   "outputs": [],
   "source": [
    "import pandas as pd\n",
    "import numpy as np\n",
    "import matplotlib.pyplot as plt\n",
    "%matplotlib inline\n",
    "import pyarrow as pa\n",
    "import pyarrow.parquet as pq\n",
    "import glob\n",
    "import warnings\n",
    "warnings.filterwarnings('ignore')"
   ]
  },
  {
   "cell_type": "code",
   "execution_count": null,
   "metadata": {},
   "outputs": [],
   "source": [
    "train = pd.read_csv('/Users/ericp/OneDrive/Documents/GitHub/Optiver/train.csv')\n",
    "test = pd.read_csv('/Users/ericp/OneDrive/Documents/GitHub/Optiver/test.csv')\n",
    "order_book = pq.read_table('/Users/ericp/OneDrive/Documents/GitHub/Optiver/book_train.parquet/stock_id=0/').to_pandas()\n",
    "trade_book = pq.read_table('/Users/ericp/OneDrive/Documents/GitHub/Optiver/trade_train.parquet/stock_id=0/').to_pandas()\n",
    "order_book['stock_id'] = 0\n",
    "trade_book['stock_id'] = 0"
   ]
  },
  {
   "cell_type": "code",
   "execution_count": null,
   "metadata": {},
   "outputs": [],
   "source": [
    "orderPath = glob.glob('/Users/ericp/OneDrive/Documents/GitHub/Optiver/book_train.parquet/*')\n",
    "tradePath = glob.glob('/Users/ericp/OneDrive/Documents/GitHub/Optiver/trade_train.parquet/*')"
   ]
  },
  {
   "cell_type": "code",
   "execution_count": null,
   "metadata": {},
   "outputs": [],
   "source": [
    "order_book = order_book[order_book['time_id'] == 5]\n",
    "trade_book = trade_book[trade_book['time_id'] == 5]"
   ]
  },
  {
   "cell_type": "code",
   "execution_count": null,
   "metadata": {},
   "outputs": [],
   "source": [
    "print('train has {} rows and {} columns'.format(train.shape[0],train.shape[1]))\n",
    "print('test has {} rows and {} columns'.format(test.shape[0], test.shape[1]))\n",
    "print('order_book has {} rows and {} columns'.format(order_book.shape[0], order_book.shape[1]))\n",
    "print('trade_book has {} rows and {} columns'.format(trade_book.shape[0], trade_book.shape[1]))"
   ]
  },
  {
   "cell_type": "code",
   "execution_count": null,
   "metadata": {},
   "outputs": [],
   "source": [
    "train.head(25)"
   ]
  },
  {
   "cell_type": "code",
   "execution_count": null,
   "metadata": {},
   "outputs": [],
   "source": [
    "test.head()"
   ]
  },
  {
   "cell_type": "code",
   "execution_count": null,
   "metadata": {},
   "outputs": [],
   "source": [
    "order_book.head()"
   ]
  },
  {
   "cell_type": "code",
   "execution_count": null,
   "metadata": {},
   "outputs": [],
   "source": [
    "trade_book.head()"
   ]
  },
  {
   "cell_type": "code",
   "execution_count": null,
   "metadata": {},
   "outputs": [],
   "source": [
    "order_book['wt_avg'] = (order_book['bid_price1'] * order_book['ask_size1'] + order_book['ask_price1'] * \n",
    "                        order_book['bid_size1']) / (order_book['bid_size1'] + order_book['ask_size1'])"
   ]
  },
  {
   "cell_type": "code",
   "execution_count": null,
   "metadata": {},
   "outputs": [],
   "source": [
    "fig,axs = plt.subplots(1)\n",
    "fig.suptitle('Stock = 0, Time_ID = 5, Volatility')\n",
    "axs.plot(order_book['wt_avg'])"
   ]
  },
  {
   "cell_type": "code",
   "execution_count": null,
   "metadata": {},
   "outputs": [],
   "source": [
    "fig,axs = plt.subplots(1)\n",
    "fig.suptitle('Stock = 0, Time_ID = 5, Volatility')\n",
    "axs.plot(trade_book['price'])"
   ]
  },
  {
   "cell_type": "code",
   "execution_count": null,
   "metadata": {},
   "outputs": [],
   "source": [
    "def logDiff(stock_prices):\n",
    "    return np.log(stock_prices).diff()"
   ]
  },
  {
   "cell_type": "code",
   "execution_count": null,
   "metadata": {},
   "outputs": [],
   "source": [
    "order_book['logDifferences'] = logDiff(order_book['wt_avg'])\n",
    "order_book = order_book[order_book['logDifferences'].notnull()]\n",
    "trade_book['logDifferences'] = logDiff(trade_book['price'])\n",
    "trade_book = trade_book[trade_book['logDifferences'].notnull()]"
   ]
  },
  {
   "cell_type": "code",
   "execution_count": null,
   "metadata": {},
   "outputs": [],
   "source": [
    "fig, axs = plt.subplots(1)\n",
    "fig.suptitle('Log Differences')\n",
    "axs.plot(order_book['logDifferences'])"
   ]
  },
  {
   "cell_type": "code",
   "execution_count": null,
   "metadata": {},
   "outputs": [],
   "source": [
    "fig, axs = plt.subplots(1)\n",
    "fig.suptitle('Log Differences')\n",
    "axs.plot(trade_book['logDifferences'])"
   ]
  },
  {
   "cell_type": "code",
   "execution_count": null,
   "metadata": {},
   "outputs": [],
   "source": [
    "def realized_vol(log_diffs):\n",
    "    return np.sqrt(np.sum(log_diffs ** 2))"
   ]
  },
  {
   "cell_type": "code",
   "execution_count": null,
   "metadata": {},
   "outputs": [],
   "source": [
    "print('Realized vol for Stock 0 over Time Period 5 order_book is: {}'.format(realized_vol(order_book['logDifferences'])))\n",
    "print('Realized vol for Stock 0 over Time Period 5 trade_book is: {}'.format(realized_vol(trade_book['logDifferences'])))"
   ]
  },
  {
   "cell_type": "code",
   "execution_count": null,
   "metadata": {},
   "outputs": [],
   "source": [
    "def RMSPE(vols, truth):         \n",
    "    return np.sqrt(np.sum(np.mean(np.square((vols - truth)/truth))))    "
   ]
  },
  {
   "cell_type": "code",
   "execution_count": null,
   "metadata": {},
   "outputs": [],
   "source": [
    "orderPath = glob.glob('/Users/ericp/OneDrive/Documents/GitHub/Optiver/book_train.parquet/*')\n",
    "predictionColumn = 'target'"
   ]
  },
  {
   "cell_type": "code",
   "execution_count": null,
   "metadata": {},
   "outputs": [],
   "source": [
    "def orderBookVol(path, predictionColumn):\n",
    "    order = pq.read_table(path).to_pandas()\n",
    "    x = int(path.split('=')[1])\n",
    "    order['stock_id'] = str(x)\n",
    "    order['time_id'] = order['time_id'].apply(str)\n",
    "    order['row_id'] = order['stock_id'] + '-' + order['time_id']\n",
    "    order['wt_avg'] = (order['bid_price1'] * order['ask_size1'] + order['ask_price1'] * \n",
    "                        order['bid_size1']) / (order['bid_size1'] + order['ask_size1'])\n",
    "    order['logDifferences'] = order.groupby(['time_id'])['wt_avg'].apply(logDiff)\n",
    "    order = order[order['logDifferences'].notnull()]\n",
    "    realized_vols =  pd.DataFrame(order.groupby(['row_id'])['logDifferences'].agg(realized_vol)).reset_index()\n",
    "    realized_vols = realized_vols.rename(columns = {'logDifferences': predictionColumn})\n",
    "    realized_vols = realized_vols[['row_id', 'target']]\n",
    "    return realized_vols"
   ]
  },
  {
   "cell_type": "code",
   "execution_count": null,
   "metadata": {},
   "outputs": [],
   "source": [
    "#train['row_id'] = train['stock_id'].astype(str) + '-' + train['time_id'].astype(str)\n",
    "#train = train[['row_id', 'target']]"
   ]
  },
  {
   "cell_type": "code",
   "execution_count": null,
   "metadata": {},
   "outputs": [],
   "source": [
    "#loop thorugh all of the books:\n",
    "response = pd.DataFrame()\n",
    "for file in orderPath:\n",
    "    response = pd.concat([response, orderBookVol(file, predictionColumn)], axis = 0)    \n"
   ]
  },
  {
   "cell_type": "code",
   "execution_count": null,
   "metadata": {},
   "outputs": [],
   "source": [
    "df_joined = train.merge(response, on = ['row_id'], how = 'left')"
   ]
  },
  {
   "cell_type": "code",
   "execution_count": null,
   "metadata": {},
   "outputs": [],
   "source": [
    "df_joined.head()"
   ]
  },
  {
   "cell_type": "code",
   "execution_count": null,
   "metadata": {},
   "outputs": [],
   "source": [
    "print ('The error rate for the naive model is {}'.format(RMSPE(df_joined['target_x'], df_joined['target_y'])))"
   ]
  },
  {
   "cell_type": "code",
   "execution_count": null,
   "metadata": {},
   "outputs": [],
   "source": [
    "df_joined = df_joined[['row_id', 'target_y']]\n",
    "df_joined.rename(columns = {'target_y':'target'}, inplace = True)\n",
    "df_joined.to_csv('submission.csv', index = False)"
   ]
  },
  {
   "cell_type": "code",
   "execution_count": null,
   "metadata": {},
   "outputs": [],
   "source": []
  }
 ],
 "metadata": {
  "kernelspec": {
   "display_name": "Python 3",
   "language": "python",
   "name": "python3"
  },
  "language_info": {
   "codemirror_mode": {
    "name": "ipython",
    "version": 3
   },
   "file_extension": ".py",
   "mimetype": "text/x-python",
   "name": "python",
   "nbconvert_exporter": "python",
   "pygments_lexer": "ipython3",
   "version": "3.7.6"
  }
 },
 "nbformat": 4,
 "nbformat_minor": 4
}
