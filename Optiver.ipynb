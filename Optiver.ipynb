{
 "cells": [
  {
   "cell_type": "code",
   "execution_count": 1,
   "metadata": {},
   "outputs": [],
   "source": [
    "import pandas as pd\n",
    "import numpy as np\n",
    "import matplotlib.pyplot as plt\n",
    "%matplotlib inline\n",
    "import pyarrow as pa\n",
    "import pyarrow.parquet as pq\n",
    "import glob\n",
    "import warnings\n",
    "warnings.filterwarnings('ignore')"
   ]
  },
  {
   "cell_type": "code",
   "execution_count": 17,
   "metadata": {},
   "outputs": [],
   "source": [
    "train = pd.read_csv('/Users/ericp/OneDrive/Documents/GitHub/Optiver/train.csv')\n",
    "test = pd.read_csv('/Users/ericp/OneDrive/Documents/GitHub/Optiver/test.csv')\n",
    "book_test = pq.read_table('/Users/ericp/OneDrive/Documents/GitHub/Optiver/book_test.parquet/stock_id=0/stock_zero.parquet').to_pandas()\n",
    "trade_test = pq.read_table('/Users/ericp/OneDrive/Documents/GitHub/Optiver/trade_test.parquet/stock_id=0/stock_zero.parquet').to_pandas()"
   ]
  },
  {
   "cell_type": "code",
   "execution_count": 3,
   "metadata": {},
   "outputs": [],
   "source": [
    "order_book_train = glob.glob('/Users/ericp/OneDrive/Documents/GitHub/Optiver/book_train.parquet/*')\n",
    "trade_book_train = glob.glob('/Users/ericp/OneDrive/Documents/GitHub/Optiver/trade_train.parquet/*')"
   ]
  },
  {
   "cell_type": "code",
   "execution_count": 4,
   "metadata": {},
   "outputs": [],
   "source": [
    "order_book = []\n",
    "for book in order_book_train:\n",
    "    order_book.append(pq.read_table(book).to_pandas())\n",
    "order_book = pd.concat(order_book, ignore_index = False)"
   ]
  },
  {
   "cell_type": "code",
   "execution_count": 5,
   "metadata": {},
   "outputs": [],
   "source": [
    "trade_book = []\n",
    "for book in trade_book_train:\n",
    "    trade_book.append(pq.read_table(book).to_pandas())\n",
    "trade_book = pd.concat(trade_book, ignore_index = False)"
   ]
  },
  {
   "cell_type": "code",
   "execution_count": 18,
   "metadata": {},
   "outputs": [
    {
     "name": "stdout",
     "output_type": "stream",
     "text": [
      "train has 428932 rows and 3 columns\n",
      "test has 3 rows and 3 columns\n",
      "order_book has 167253289 rows and 10 columns\n",
      "trade_book has 38382741 rows and 10 columns\n",
      "book_test has 3 rows and 10 columns\n",
      "trade_test has 3 rows and 5 columns\n"
     ]
    }
   ],
   "source": [
    "print('train has {} rows and {} columns'.format(train.shape[0],train.shape[1]))\n",
    "print('test has {} rows and {} columns'.format(test.shape[0], test.shape[1]))\n",
    "print('order_book has {} rows and {} columns'.format(order_book.shape[0], order_book.shape[1]))\n",
    "print('trade_book has {} rows and {} columns'.format(trade_book.shape[0], order_book.shape[1]))\n",
    "print('book_test has {} rows and {} columns'.format(stock0.shape[0], stock0.shape[1]))\n",
    "print('trade_test has {} rows and {} columns'.format(stock0_test.shape[0], stock0_test.shape[1]))"
   ]
  },
  {
   "cell_type": "code",
   "execution_count": 25,
   "metadata": {},
   "outputs": [],
   "source": [
    "stock_id = 0\n",
    "book_test['stock_id'] = stock_id\n",
    "trade_test['stock_id'] = stock_id"
   ]
  },
  {
   "cell_type": "code",
   "execution_count": 26,
   "metadata": {},
   "outputs": [
    {
     "data": {
      "text/html": [
       "<div>\n",
       "<style scoped>\n",
       "    .dataframe tbody tr th:only-of-type {\n",
       "        vertical-align: middle;\n",
       "    }\n",
       "\n",
       "    .dataframe tbody tr th {\n",
       "        vertical-align: top;\n",
       "    }\n",
       "\n",
       "    .dataframe thead th {\n",
       "        text-align: right;\n",
       "    }\n",
       "</style>\n",
       "<table border=\"1\" class=\"dataframe\">\n",
       "  <thead>\n",
       "    <tr style=\"text-align: right;\">\n",
       "      <th></th>\n",
       "      <th>time_id</th>\n",
       "      <th>seconds_in_bucket</th>\n",
       "      <th>bid_price1</th>\n",
       "      <th>ask_price1</th>\n",
       "      <th>bid_price2</th>\n",
       "      <th>ask_price2</th>\n",
       "      <th>bid_size1</th>\n",
       "      <th>ask_size1</th>\n",
       "      <th>bid_size2</th>\n",
       "      <th>ask_size2</th>\n",
       "      <th>stock_id</th>\n",
       "    </tr>\n",
       "  </thead>\n",
       "  <tbody>\n",
       "    <tr>\n",
       "      <th>0</th>\n",
       "      <td>4</td>\n",
       "      <td>0</td>\n",
       "      <td>1.000049</td>\n",
       "      <td>1.000590</td>\n",
       "      <td>0.999656</td>\n",
       "      <td>1.000639</td>\n",
       "      <td>91</td>\n",
       "      <td>100</td>\n",
       "      <td>100</td>\n",
       "      <td>24</td>\n",
       "      <td>0</td>\n",
       "    </tr>\n",
       "    <tr>\n",
       "      <th>1</th>\n",
       "      <td>4</td>\n",
       "      <td>1</td>\n",
       "      <td>1.000049</td>\n",
       "      <td>1.000590</td>\n",
       "      <td>0.999656</td>\n",
       "      <td>1.000639</td>\n",
       "      <td>91</td>\n",
       "      <td>100</td>\n",
       "      <td>100</td>\n",
       "      <td>20</td>\n",
       "      <td>0</td>\n",
       "    </tr>\n",
       "    <tr>\n",
       "      <th>2</th>\n",
       "      <td>4</td>\n",
       "      <td>5</td>\n",
       "      <td>1.000049</td>\n",
       "      <td>1.000639</td>\n",
       "      <td>0.999656</td>\n",
       "      <td>1.000885</td>\n",
       "      <td>290</td>\n",
       "      <td>20</td>\n",
       "      <td>101</td>\n",
       "      <td>15</td>\n",
       "      <td>0</td>\n",
       "    </tr>\n",
       "  </tbody>\n",
       "</table>\n",
       "</div>"
      ],
      "text/plain": [
       "   time_id  seconds_in_bucket  bid_price1  ask_price1  bid_price2  ask_price2  \\\n",
       "0        4                  0    1.000049    1.000590    0.999656    1.000639   \n",
       "1        4                  1    1.000049    1.000590    0.999656    1.000639   \n",
       "2        4                  5    1.000049    1.000639    0.999656    1.000885   \n",
       "\n",
       "   bid_size1  ask_size1  bid_size2  ask_size2  stock_id  \n",
       "0         91        100        100         24         0  \n",
       "1         91        100        100         20         0  \n",
       "2        290         20        101         15         0  "
      ]
     },
     "execution_count": 26,
     "metadata": {},
     "output_type": "execute_result"
    }
   ],
   "source": [
    "book_test.head()"
   ]
  },
  {
   "cell_type": "code",
   "execution_count": null,
   "metadata": {},
   "outputs": [],
   "source": []
  }
 ],
 "metadata": {
  "kernelspec": {
   "display_name": "Python 3",
   "language": "python",
   "name": "python3"
  },
  "language_info": {
   "codemirror_mode": {
    "name": "ipython",
    "version": 3
   },
   "file_extension": ".py",
   "mimetype": "text/x-python",
   "name": "python",
   "nbconvert_exporter": "python",
   "pygments_lexer": "ipython3",
   "version": "3.7.6"
  }
 },
 "nbformat": 4,
 "nbformat_minor": 4
}
